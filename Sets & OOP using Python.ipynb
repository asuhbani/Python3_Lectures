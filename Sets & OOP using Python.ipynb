{
 "cells": [
  {
   "cell_type": "markdown",
   "id": "30e80d65",
   "metadata": {},
   "source": [
    "# Sets & OOP in Python programming"
   ]
  },
  {
   "cell_type": "markdown",
   "id": "4d089a76",
   "metadata": {},
   "source": [
    "سنحاول في هذا البرنامج التعليمي الحصول على ميزات متعمقة في البرمجة الكائنية الموجهة في اللغة البرمجية (البايثون). تم إعداد هذا البرنامج التعليمي للمبتدئين والمتوسطين لمساعدتهم على فهم الميزات والمفاهيم من خلال التمارين. إذا كنت جديدًا في البرمجة، فمن المستحسن أن تنتقل أولاً إلى دروس \"بايثون للمبتدئين\". "
   ]
  },
  {
   "cell_type": "markdown",
   "id": "8e7f2b66",
   "metadata": {},
   "source": [
    "## Sets – Data Structures "
   ]
  },
  {
   "cell_type": "markdown",
   "id": "443fd2e5",
   "metadata": {},
   "source": [
    "Review:\n",
    "\n",
    "Lists : A List represents the most versatile type of data structure in Python. \n",
    "\n",
    "#### Any Empty List\n",
    "> empty_list = []\n",
    "\n",
    "#### Mixed items list\n",
    "> mixed_list = ['This', 9, 'gfjkl;jhdsfis', 18, 45.9, 'a', 54, 'mixed', 99, 'list']\n",
    "\n",
    "### Tuples\n",
    "Tuples are similar to lists and can store elements.\n",
    "> stock2 = ('MSFT', 95.00, 97.45, 92.45)\n",
    "\n",
    "### Dictionary\n",
    "#### empty dictionary\n",
    "> my_dict = {}\n",
    "#### dictionary with mixed keys\n",
    "> my_dict = {'name': 'Aarav', 1: [ 2, 4, 10]}\n"
   ]
  },
  {
   "cell_type": "markdown",
   "id": "ce7aaf5a",
   "metadata": {},
   "source": [
    "### Sets\n",
    "Set() is an unordered collection with no duplicate elements. \n",
    "\n",
    "Set itself is mutable, that is we can add or remove elements/items from the set.\n",
    "set.\n",
    "\n",
    "### Creating a set\n",
    "A set is created by:\n",
    "\n",
    "1- Placing all the items inside curly braces {}, separated by comma.\n",
    "\n",
    "2- By using the built-in function set()."
   ]
  },
  {
   "cell_type": "markdown",
   "id": "44a41282",
   "metadata": {},
   "source": [
    "\n",
    "### Methods for Sets:\n",
    "\n",
    ">topics = {'Python', 'Java', 'C#'}\n",
    "\n",
    ">team = {'Developer', 'Content Writer', 'Editor','Tester'}\n",
    "\n",
    "Methods:\n",
    "1. add(x) \n",
    "> topics.add('C++')\n",
    "2. union(s) Method, returns a union of two set.\n",
    "> group = topics.union(team)\n",
    "3. intersets(s) method, returns an intersection of two sets\n",
    "> inters = topics.intersection(team)\n",
    "4. difference(s) Method, returns a set containing all the elements of invoking set but not of the second set.\n",
    "> safe = topics.difference(team)\n",
    "5. clear() Method, Empties the whole set.\n",
    "> group.clear()"
   ]
  },
  {
   "cell_type": "markdown",
   "id": "42c9904b",
   "metadata": {},
   "source": [
    "### Operators for Sets\n",
    "#Union : \n",
    ">set3 = set1 | set2 # same as set1.union(set2)\n",
    "\n",
    "#Intersection : \n",
    ">set4 = set1 & set2 # same as set1.intersection(set2)\n",
    "\n",
    "#Checking relation between set3 and set4\n",
    ">if set3 > set4: # set3.issuperset(set4)\n",
    "\n",
    ">elif set3 < set4: #set3.issubset(set4)\n",
    "\n",
    "#Difference between set3 and set4\n",
    "> set5 = set3 - set4\n",
    "\n",
    "#Check if set4 and set5 are disjoint sets\n",
    ">if set4.isdisjoint(set5): #disjoint sets"
   ]
  },
  {
   "cell_type": "code",
   "execution_count": 5,
   "id": "46b13b5a",
   "metadata": {},
   "outputs": [
    {
     "name": "stdout",
     "output_type": "stream",
     "text": [
      "set1 = {1, 2, 3, 4}\n",
      "set2 = {4, 5, 6, 7, 8}\n"
     ]
    }
   ],
   "source": [
    "#Creating two sets\n",
    "set1 = set()\n",
    "set2 = {}\n",
    "#Adding elements to set\n",
    "for i in range(1 ,5):\n",
    "    set1.add(i) \n",
    "print(\"set1 =\",set1)\n",
    "for J in range(4,9):\n",
    "    set2.add(J)\n",
    "print(\"set2 =\",set2) # union | , intersection & , diference - , clear"
   ]
  },
  {
   "cell_type": "code",
   "execution_count": 62,
   "id": "bc8c9c1b",
   "metadata": {},
   "outputs": [
    {
     "name": "stdout",
     "output_type": "stream",
     "text": [
      "{8, 1, 2, 4}\n",
      "{1.0, (2, 4, 6), 'Hello World!'}\n"
     ]
    }
   ],
   "source": [
    ">>> #set of integers\n",
    ">>> my_set = {1,2,4,8}\n",
    ">>> print(my_set)\n",
    ">>>\n",
    ">>> #set of mixed datatypes\n",
    ">>> my_set = {1.0, \"Hello World!\", (2, 4, 6)}\n",
    ">>> print(my_set)"
   ]
  },
  {
   "cell_type": "markdown",
   "id": "2cbe11d8",
   "metadata": {},
   "source": [
    "### Definitions:"
   ]
  },
  {
   "cell_type": "markdown",
   "id": "55239986",
   "metadata": {},
   "source": [
    "**Object Oriented** means functionally directed towards modelling objects.\n",
    "\n",
    "**Python, an Object Oriented programming (OOP)**, is a way of programming that focuses on using objects and classes to design and build applications. \n",
    "\n",
    "**Major pillars of (OOP)** are Inheritance, Polymorphism, Abstraction, and Encapsulation.\n",
    "\n",
    "**Object Oriented Analysis(OOA)** is the process of examining a problem, system or task and identifying the objects and interactions between them."
   ]
  },
  {
   "cell_type": "markdown",
   "id": "b39d2c37",
   "metadata": {},
   "source": [
    "** موجه للكائنات ** يعني أنه موجه وظيفيًا نحو كائنات النمذجة.\n",
    "\n",
    "**بايثون، هي برمجة كائنية التوجه (OOP)**، وهي طريقة برمجة تركز على استخدام الكائنات والفئات لتصميم وبناء التطبيقات.\n",
    "\n",
    "**الركائز الرئيسية لـ (OOP)** هي الوراثة، وتعدد الأشكال، والتجريد، والتغليف.\n",
    "\n",
    "**التحليل الموجه للكائنات (OOA)** هو عملية فحص مشكلة أو نظام أو مهمة وتحديد الكائنات والتفاعلات بينها."
   ]
  },
  {
   "cell_type": "markdown",
   "id": "dc9cc156",
   "metadata": {},
   "source": [
    "### Modules vs. Classes and Objects\n",
    "\n",
    "Modules الوحدات\n",
    "هي حزم تحتوي على شيفرة قابلة لإعادة الاستخدام.\n",
    "\n",
    "Classes الفئات\n",
    "تشبه الوحدات  وتقوم بتجميع الشيفرة والبيانات\n",
    "\n",
    "Objects  الكائنات\n",
    "هي تمثيل لفئة معينة وتتيح الوصول إلى وظائفها ومتغيراتها."
   ]
  },
  {
   "cell_type": "code",
   "execution_count": 1,
   "id": "5286e6b8",
   "metadata": {},
   "outputs": [],
   "source": [
    "\n",
    "# Creating and using a class\n",
    "class employee:\n",
    "    var = 8\n",
    "    def __init__(self, age):\n",
    "        self.Age = age\n",
    "    def EmployeID(self):\n",
    "        print(\"This is just employee unique identity\")"
   ]
  },
  {
   "cell_type": "code",
   "execution_count": 2,
   "id": "6fa9a45f",
   "metadata": {},
   "outputs": [],
   "source": [
    "oEmp2 = employee(22) # تعريف كائن من الكلاس "
   ]
  },
  {
   "cell_type": "code",
   "execution_count": 3,
   "id": "c435fe67",
   "metadata": {},
   "outputs": [
    {
     "name": "stdout",
     "output_type": "stream",
     "text": [
      "This is just employee unique identity\n",
      "22\n"
     ]
    }
   ],
   "source": [
    "oEmp2.EmployeID()\n",
    "print(oEmp2.Age)"
   ]
  },
  {
   "cell_type": "code",
   "execution_count": 11,
   "id": "ecd2b733",
   "metadata": {},
   "outputs": [
    {
     "name": "stdout",
     "output_type": "stream",
     "text": [
      "s3 =  {1, 2, 3, 4, 5, 6, 7, 8}\n",
      "s4 =  {4}\n",
      "s5 =  {8, 5, 6, 7}\n"
     ]
    }
   ],
   "source": [
    "s3 = set1.union(set2)\n",
    "print(\"s3 = \",s3)\n",
    "s4 = set1.intersection(set2)\n",
    "print(\"s4 = \",s4)\n",
    "s5 = set2 - set1\n",
    "print(\"s5 = \",s5)\n",
    "\n",
    "if s3<set2:\n",
    "    print(\"ok\")"
   ]
  },
  {
   "cell_type": "code",
   "execution_count": 10,
   "id": "f690662d",
   "metadata": {},
   "outputs": [
    {
     "name": "stdout",
     "output_type": "stream",
     "text": [
      "set3 = {1, 2, 3, 4, 5, 6, 7, 8}\n",
      "set4 = {4}\n",
      "set5 = {1, 2, 3, 5, 6, 7, 8}\n"
     ]
    }
   ],
   "source": [
    "# الاتحاد\n",
    "set3 = set1 | set2\n",
    "print(\"set3 =\", set3)\n",
    "#التقاطع\n",
    "set4 = set1 & set2\n",
    "print(\"set4 =\", set4)\n",
    "# الفروق\n",
    "set5 = set3 - set4\n",
    "print(\"set5 =\", set5)"
   ]
  },
  {
   "cell_type": "markdown",
   "id": "28241777",
   "metadata": {},
   "source": [
    "## OOP in Python – Building Blocks"
   ]
  },
  {
   "cell_type": "markdown",
   "id": "21ce52c1",
   "metadata": {
    "heading_collapsed": true
   },
   "source": [
    "### Classes have methods and attributes\n",
    " Class functions is synonym for methods.\n",
    "\n",
    " Class variables is synonym for name attributes.\n",
    "\n",
    " Class – a blueprint for an instance with exact behavior.\n",
    "\n",
    " Object – one of the instances of the class, perform functionality defined in the class.\n",
    "\n",
    " Type – indicates the class the instance belongs to\n",
    "\n",
    " Attribute – Any object value: object.attribute \n",
    "\n",
    " Method – a “callable attribute” defined in the class"
   ]
  },
  {
   "cell_type": "code",
   "execution_count": 65,
   "id": "e4afb3ed",
   "metadata": {
    "hidden": true
   },
   "outputs": [
    {
     "name": "stdout",
     "output_type": "stream",
     "text": [
      "9\n",
      "9\n"
     ]
    }
   ],
   "source": [
    "class MyClass(object):\n",
    "    var = 9\n",
    "# Create first instance of MyClass\n",
    "first_obj = MyClass()\n",
    "print(first_obj.var)\n",
    "# Another instance of MyClass\n",
    "second_obj = MyClass()\n",
    "print(second_obj.var)"
   ]
  },
  {
   "cell_type": "markdown",
   "id": "29ba325d",
   "metadata": {},
   "source": [
    "### Creation and Instantiation\n",
    "The following code shows how to create our first class and then its instance.\n",
    "### Instance Methods\n",
    "A function defined in a class is called a method. An instance method requires an instance in order to call it and requires no decorator. When creating an instance method, the first parameter is always self. "
   ]
  },
  {
   "cell_type": "code",
   "execution_count": 11,
   "id": "76714cfc",
   "metadata": {},
   "outputs": [
    {
     "name": "stdout",
     "output_type": "stream",
     "text": [
      "9\n",
      "hello, World\n"
     ]
    }
   ],
   "source": [
    "class MyClass():\n",
    "    var=9\n",
    "    def firstM(self):\n",
    "        print(\"hello, World\")\n",
    "\n",
    "obj = MyClass()\n",
    "print(obj.var)\n",
    "obj.firstM()"
   ]
  },
  {
   "cell_type": "code",
   "execution_count": 12,
   "id": "c8358fb8",
   "metadata": {},
   "outputs": [
    {
     "name": "stdout",
     "output_type": "stream",
     "text": [
      "hello, World\n",
      "<__main__.MyClass object at 0x0000023BDBBC4100>\n",
      "<__main__.MyClass object at 0x0000023BDBBC4100>\n"
     ]
    }
   ],
   "source": [
    "class MyClass():\n",
    "    def firstM(self):\n",
    "        print(\"hello, World\")\n",
    "        print(self)\n",
    "\n",
    "obj = MyClass()\n",
    "obj.firstM()\n",
    "print(obj)"
   ]
  },
  {
   "cell_type": "markdown",
   "id": "6b87ee76",
   "metadata": {},
   "source": [
    "### Encapsulation\n",
    "Encapsulation provides us the mechanism of restricting the access to some of the object’s components, this means that the internal representation of an object can’t be seen from outside of the object definition. \n",
    "Access to this data is typically achieved through special methods: Getters and Setters.\n",
    "This data is stored in instance attributes and can be manipulated from anywhere outside the class. To secure it, that data should only be accessed using instance methods. Direct access should not be permitted."
   ]
  },
  {
   "cell_type": "code",
   "execution_count": 13,
   "id": "b3543bdd",
   "metadata": {},
   "outputs": [
    {
     "name": "stdout",
     "output_type": "stream",
     "text": [
      "45\n",
      "Fourty Five\n"
     ]
    }
   ],
   "source": [
    "class MyClass():\n",
    "    def setAge(self, num):\n",
    "        self.age = num\n",
    "        \n",
    "    def getAge(self):\n",
    "        return self.age\n",
    "    \n",
    "zack = MyClass()\n",
    "zack.setAge(45)\n",
    "print(zack.getAge())\n",
    "\n",
    "zack.setAge(\"Fourty Five\")\n",
    "print(zack.getAge())"
   ]
  },
  {
   "cell_type": "markdown",
   "id": "d61fdea9",
   "metadata": {},
   "source": [
    "### Init Constructor\n",
    "The __init__() method is implicitly called as soon as an object of a class is instantiated.\n",
    "\n",
    "This will initialize the object.\n",
    "\n",
    "x = MyClass()\n",
    "\n",
    "The line of code shown above will create a new instance and assigns this object to the local variable x.\n",
    "\n",
    "The instantiation operation, that is calling a class object, creates an empty object. \n",
    "\n",
    "The __init__() method can have single or multiple arguments for a greater flexibility.\n",
    "\n",
    "__init__() is called the constructor of a class."
   ]
  },
  {
   "cell_type": "code",
   "execution_count": 18,
   "id": "a04945fa",
   "metadata": {},
   "outputs": [
    {
     "name": "stdout",
     "output_type": "stream",
     "text": [
      "4,3\n"
     ]
    }
   ],
   "source": [
    "class myclass(object):\n",
    "    def __init__(self,aaa, bbb):\n",
    "        self.a = aaa\n",
    "        self.b = bbb\n",
    "    \n",
    "x = myclass(4, 3)\n",
    "print(x.a, x.b , sep=\",\")"
   ]
  },
  {
   "cell_type": "markdown",
   "id": "002a41c5",
   "metadata": {},
   "source": [
    "### Class Attributes\n",
    "The attribute defined in the class is called “class attributes’ and the attributes defined in the function is called ‘instance attributes’. While defining, these attributes are not prefixed by \"self\".\n",
    "\n",
    "The class attributes can be accessed by the class itself ( className.attributeName) as well as by the instances of the class (inst.attributeName). So, the instances have access to\n",
    "both the instance attribute as well as class attributes."
   ]
  },
  {
   "cell_type": "code",
   "execution_count": 20,
   "id": "0fe1bca8",
   "metadata": {},
   "outputs": [
    {
     "name": "stdout",
     "output_type": "stream",
     "text": [
      "21\n"
     ]
    },
    {
     "data": {
      "text/plain": [
       "21"
      ]
     },
     "execution_count": 20,
     "metadata": {},
     "output_type": "execute_result"
    }
   ],
   "source": [
    "class myclass():\n",
    "    age = 21\n",
    "    name = \"obad\"\n",
    "\n",
    "print(myclass.age)\n",
    "myclass.name\n",
    "x = myclass()\n",
    "x.age\n"
   ]
  },
  {
   "cell_type": "code",
   "execution_count": 66,
   "id": "9599da1b",
   "metadata": {},
   "outputs": [
    {
     "name": "stdout",
     "output_type": "stream",
     "text": [
      "val of obj: 9\n",
      "count: 3\n",
      "val of obj: 18\n",
      "count: 3\n",
      "val of obj: 27\n",
      "count: 3\n"
     ]
    }
   ],
   "source": [
    "class InstanceCounter(object):\n",
    "    count = 0 # class attribute, will be accessible to all instances.\n",
    "    \n",
    "    def __init__(self, val):\n",
    "        self.val = val\n",
    "        InstanceCounter.count +=1 # Increment the value of class attribute, accessible through class name\n",
    "                                  # In above line, class ('InstanceCounter') act as an object\n",
    "    \n",
    "    def set_val(self, newval):\n",
    "        self.val = newval\n",
    "    \n",
    "    def get_val(self):\n",
    "        return self.val\n",
    "\n",
    "    def get_count(self):\n",
    "        return InstanceCounter.count\n",
    "\n",
    "a = InstanceCounter(9)\n",
    "b = InstanceCounter(18)\n",
    "c = InstanceCounter(27)\n",
    "\n",
    "for obj in (a, b, c):\n",
    "    print ('val of obj: %s' %(obj.get_val())) # Initialized value ( 9, 18, 27)\n",
    "    print ('count: %s' %(obj.get_count())) # always 3"
   ]
  },
  {
   "cell_type": "code",
   "execution_count": 22,
   "id": "358c4f41",
   "metadata": {},
   "outputs": [],
   "source": [
    "# Account class\n",
    "class Account():\n",
    "    def __init__(self, name, balance, password):\n",
    "        self.name = name\n",
    "        self.balance = int(balance)\n",
    "        self.password = password\n",
    "        \n",
    "    def deposit(self, amountToDeposit, password):\n",
    "        if password != self.password:\n",
    "            print('Sorry, incorrect password')\n",
    "            return None\n",
    "        \n",
    "        if amountToDeposit < 0:\n",
    "            print('You cannot deposit a negative amount')\n",
    "            return None\n",
    "        \n",
    "        self.balance = self.balance + amountToDeposit\n",
    "        return self.balance\n",
    "    \n",
    "    def withdraw(self, amountToWithdraw, password):\n",
    "        if password != self.password:\n",
    "            print('Incorrect password for this account')\n",
    "            return None\n",
    "        \n",
    "        if amountToWithdraw < 0:\n",
    "            print('You cannot withdraw a negative amount')\n",
    "            return None\n",
    "        \n",
    "        if amountToWithdraw > self.balance:\n",
    "            print('You cannot withdraw more than you have in your account')\n",
    "            return None\n",
    "        \n",
    "        self.balance = self.balance - amountToWithdraw\n",
    "        return self.balance\n",
    "    \n",
    "    def getBalance(self, password):\n",
    "        if password != self.password:\n",
    "            print('Sorry, incorrect password')\n",
    "            return None\n",
    "        \n",
    "        return self.balance\n",
    "    \n",
    "    def show(self):\n",
    "        print(' Name:', self.name)\n",
    "        print(' Balance:', self.balance)\n",
    "        print(' Password:', self.password)\n",
    "        print()"
   ]
  },
  {
   "cell_type": "markdown",
   "id": "a0206b90",
   "metadata": {},
   "source": [
    "### After Importing Class Code\n",
    "from <ExternalFile> import <ClassName1>, <ClassName2>, ...\n",
    "    \n",
    "from Account import * \n",
    "\n",
    "import random math account"
   ]
  },
  {
   "cell_type": "code",
   "execution_count": 23,
   "id": "005edb82",
   "metadata": {},
   "outputs": [
    {
     "name": "stdout",
     "output_type": "stream",
     "text": [
      " Name: Obad\n",
      " Balance: 1000\n",
      " Password: asd\n",
      "\n"
     ]
    }
   ],
   "source": [
    "oAccount = Account('Obad', 1000, 'asd')\n",
    "oAccount.show()"
   ]
  },
  {
   "cell_type": "code",
   "execution_count": 24,
   "id": "78cbfd2a",
   "metadata": {},
   "outputs": [
    {
     "name": "stdout",
     "output_type": "stream",
     "text": [
      " Name: Obad\n",
      " Balance: 1500\n",
      " Password: asd\n",
      "\n"
     ]
    }
   ],
   "source": [
    "newBalance = oAccount.deposit(500, 'asd')\n",
    "oAccount.show()"
   ]
  },
  {
   "cell_type": "code",
   "execution_count": 25,
   "id": "bc93c205",
   "metadata": {},
   "outputs": [
    {
     "name": "stdout",
     "output_type": "stream",
     "text": [
      " Name: Obad\n",
      " Balance: 1250\n",
      " Password: asd\n",
      "\n"
     ]
    }
   ],
   "source": [
    "oAccount.withdraw(250, 'asd')\n",
    "oAccount.show()"
   ]
  },
  {
   "cell_type": "code",
   "execution_count": 27,
   "id": "26d0e248",
   "metadata": {},
   "outputs": [
    {
     "name": "stdout",
     "output_type": "stream",
     "text": [
      "1250\n"
     ]
    }
   ],
   "source": [
    "currentBalance = oAccount.getBalance('asd')\n",
    "print(currentBalance)"
   ]
  },
  {
   "cell_type": "markdown",
   "id": "71ec2afd",
   "metadata": {},
   "source": [
    "### Building an Interactive Menu"
   ]
  },
  {
   "cell_type": "code",
   "execution_count": null,
   "id": "ec79221c",
   "metadata": {},
   "outputs": [
    {
     "name": "stdout",
     "output_type": "stream",
     "text": [
      "\n",
      "Press b to get the balance\n",
      "Press d to make a deposit\n",
      "Press o to open a new account\n",
      "Press w to make a withdrawal\n",
      "Press s to show all accounts\n",
      "Press q to quit\n",
      "\n",
      "What do you want to do? s\n",
      "\n",
      "Show:\n",
      "\n",
      "Press b to get the balance\n",
      "Press d to make a deposit\n",
      "Press o to open a new account\n",
      "Press w to make a withdrawal\n",
      "Press s to show all accounts\n",
      "Press q to quit\n",
      "\n"
     ]
    }
   ],
   "source": [
    "# Interactive test program creating a dictionary of accounts\n",
    "#from Account import *\n",
    "accountsDict = {}\n",
    "nextAccountNumber = 0\n",
    "\n",
    "while True:\n",
    "    print()\n",
    "    print('Press b to get the balance')\n",
    "    print('Press d to make a deposit')\n",
    "    print('Press o to open a new account')\n",
    "    print('Press w to make a withdrawal')\n",
    "    print('Press s to show all accounts')\n",
    "    print('Press q to quit')\n",
    "    print()\n",
    "    \n",
    "    action = input('What do you want to do? ')\n",
    "    action = action.lower() # djfhfu\n",
    "    action = action[0] # grab the first letter\n",
    "    print()\n",
    "    # {0:[user,balance,pass],1}\n",
    "    if action == 'b':\n",
    "        print('*** Get Balance ***')\n",
    "        userAccountNumber = input('Please enter your account number: ')\n",
    "        userAccountNumber = int(userAccountNumber)\n",
    "        userAccountPassword = input('Please enter the password: ')\n",
    "        oAccount = accountsDict[userAccountNumber]\n",
    "        theBalance = oAccount.getBalance(userAccountPassword)\n",
    "        \n",
    "        if theBalance is not None:\n",
    "            print('Your balance is:', theBalance)\n",
    "        \n",
    "    elif action == 'd':\n",
    "        print('*** Deposit ***')\n",
    "        userAccountNumber = input('Please enter the account number: ')\n",
    "        userAccountNumber = int(userAccountNumber)\n",
    "        userDepositAmount = input('Please enter amount to deposit:')\n",
    "        userDepositAmount = int(userDepositAmount)\n",
    "        userPassword = input('Please enter the password: ')\n",
    "        oAccount = accountsDict[userAccountNumber]\n",
    "        theBalance = oAccount.deposit(userDepositAmount,userPassword) \n",
    "        \n",
    "        if theBalance is not None:\n",
    "            print('Your new balance is:', theBalance)\n",
    "\n",
    "    elif action == 'o':\n",
    "        print('*** Open Account ***')\n",
    "        userName = input('What is the name for the new user account? ')\n",
    "        userStartingAmount = input('What is the starting balance for this account? ')\n",
    "        userStartingAmount = int(userStartingAmount)\n",
    "        userPassword = input('What is the password you want to use for this account? ')\n",
    "        oAccount = Account(userName, userStartingAmount, userPassword)\n",
    "        accountsDict[nextAccountNumber] = oAccount\n",
    "        print('Your new account number is:', nextAccountNumber)\n",
    "        nextAccountNumber = nextAccountNumber + 1\n",
    "        print()\n",
    "\n",
    "    elif action == 's':\n",
    "        print('Show:')\n",
    "        for userAccountNumber in accountsDict:\n",
    "            oAccount = accountsDict[userAccountNumber]\n",
    "            print(' Account number:', userAccountNumber)\n",
    "            oAccount.show()\n",
    "\n",
    "    elif action == 'q':\n",
    "        break\n",
    "        \n",
    "    elif action == 'w':\n",
    "        print('*** Withdraw ***')\n",
    "        userAccountNumber = input('Please enter your account number: ')\n",
    "        userAccountNumber = int(userAccountNumber)\n",
    "        userWithdrawalAmount = input('Please enter the amount to withdraw: ')\n",
    "        userWithdrawalAmount = int(userWithdrawalAmount)\n",
    "        userPassword = input('Please enter the password: ')\n",
    "        oAccount = accountsDict[userAccountNumber]\n",
    "        theBalance = oAccount.withdraw(userWithdrawalAmount, userPassword)\n",
    "\n",
    "        if theBalance is not None:\n",
    "            print('Withdrew:', userWithdrawalAmount)\n",
    "            print('Your new balance is:', theBalance)\n",
    "    \n",
    "    else:\n",
    "        print('Sorry, that was not a valid action. Please try again.')\n",
    "\n",
    "print('Done')"
   ]
  },
  {
   "cell_type": "markdown",
   "id": "ea3edc8e",
   "metadata": {},
   "source": [
    "Ehe End"
   ]
  }
 ],
 "metadata": {
  "kernelspec": {
   "display_name": "Python 3",
   "language": "python",
   "name": "python3"
  },
  "language_info": {
   "codemirror_mode": {
    "name": "ipython",
    "version": 3
   },
   "file_extension": ".py",
   "mimetype": "text/x-python",
   "name": "python",
   "nbconvert_exporter": "python",
   "pygments_lexer": "ipython3",
   "version": "3.9.11"
  }
 },
 "nbformat": 4,
 "nbformat_minor": 5
}
